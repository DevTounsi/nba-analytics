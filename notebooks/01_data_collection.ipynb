{
 "cells": [
  {
   "cell_type": "code",
   "execution_count": 17,
   "id": "199048c5",
   "metadata": {},
   "outputs": [],
   "source": [
    "from nba_api.stats.endpoints import playercareerstats as pcs\n",
    "from nba_api.stats.static import players\n",
    "import pandas as pd\n",
    "\n",
    "def search_player(player_user):\n",
    "    sc_player = players.find_players_by_first_name(f\"{player_user}\")\n",
    "    career = pcs.PlayerCareerStats(player_id=sc_player[0]['id'])\n",
    "    df = career.get_data_frames()[0]\n",
    "    #efficacité\n",
    "    df['EFF'] = (df['PTS'] + df['REB'] + df['AST'] + df['STL'] + df['BLK']) - ((df['FGA'] - df['FGM']) + (df['FTA'] - df['FTM']) + df['TOV'])\n",
    "    #true shooting percentage\n",
    "    df['TS_PCT'] = df['PTS'] / (2 * (df['FGA'] + 0.44 * df['FTA']))\n",
    "\n",
    "    cols_to_keep=['SEASON_ID','TEAM_ABBREVIATION','PLAYER_AGE','GP','GS','MIN','PTS','REB','AST','FG_PCT','FG3_PCT','FT_PCT','EFF','TS_PCT']\n",
    "    df = df[cols_to_keep]\n",
    "\n",
    "    df.to_csv(f'../data/raw/{player_user}_all.csv', index=False)\n"
   ]
  },
  {
   "cell_type": "code",
   "execution_count": 18,
   "id": "e3c2125e",
   "metadata": {},
   "outputs": [
    {
     "ename": "IndexError",
     "evalue": "list index out of range",
     "output_type": "error",
     "traceback": [
      "\u001b[31m---------------------------------------------------------------------------\u001b[39m",
      "\u001b[31mIndexError\u001b[39m                                Traceback (most recent call last)",
      "\u001b[36mCell\u001b[39m\u001b[36m \u001b[39m\u001b[32mIn[18]\u001b[39m\u001b[32m, line 1\u001b[39m\n\u001b[32m----> \u001b[39m\u001b[32m1\u001b[39m \u001b[43msearch_player\u001b[49m\u001b[43m(\u001b[49m\u001b[33;43m'\u001b[39;49m\u001b[33;43mCurry\u001b[39;49m\u001b[33;43m'\u001b[39;49m\u001b[43m)\u001b[49m\n",
      "\u001b[36mCell\u001b[39m\u001b[36m \u001b[39m\u001b[32mIn[17]\u001b[39m\u001b[32m, line 7\u001b[39m, in \u001b[36msearch_player\u001b[39m\u001b[34m(player_user)\u001b[39m\n\u001b[32m      5\u001b[39m \u001b[38;5;28;01mdef\u001b[39;00m\u001b[38;5;250m \u001b[39m\u001b[34msearch_player\u001b[39m(player_user):\n\u001b[32m      6\u001b[39m     sc_player = players.find_players_by_first_name(\u001b[33mf\u001b[39m\u001b[33m\"\u001b[39m\u001b[38;5;132;01m{\u001b[39;00mplayer_user\u001b[38;5;132;01m}\u001b[39;00m\u001b[33m\"\u001b[39m)\n\u001b[32m----> \u001b[39m\u001b[32m7\u001b[39m     career = pcs.PlayerCareerStats(player_id=\u001b[43msc_player\u001b[49m\u001b[43m[\u001b[49m\u001b[32;43m0\u001b[39;49m\u001b[43m]\u001b[49m[\u001b[33m'\u001b[39m\u001b[33mid\u001b[39m\u001b[33m'\u001b[39m])\n\u001b[32m      8\u001b[39m     df = career.get_data_frames()[\u001b[32m0\u001b[39m]\n\u001b[32m      9\u001b[39m     \u001b[38;5;66;03m#efficacité\u001b[39;00m\n",
      "\u001b[31mIndexError\u001b[39m: list index out of range"
     ]
    }
   ],
   "source": [
    "search_player('Curry')"
   ]
  }
 ],
 "metadata": {
  "kernelspec": {
   "display_name": "Python 3",
   "language": "python",
   "name": "python3"
  },
  "language_info": {
   "codemirror_mode": {
    "name": "ipython",
    "version": 3
   },
   "file_extension": ".py",
   "mimetype": "text/x-python",
   "name": "python",
   "nbconvert_exporter": "python",
   "pygments_lexer": "ipython3",
   "version": "3.13.7"
  }
 },
 "nbformat": 4,
 "nbformat_minor": 5
}
