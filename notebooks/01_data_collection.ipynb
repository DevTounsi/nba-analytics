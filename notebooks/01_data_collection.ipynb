{
 "cells": [
  {
   "cell_type": "code",
   "execution_count": null,
   "id": "199048c5",
   "metadata": {
    "vscode": {
     "languageId": "plaintext"
    }
   },
   "outputs": [],
   "source": [
    "from nba_api.stat.endpoints import playercareerstats as pcs\n",
    "import pandas as pd\n",
    "\n",
    "kd = players.find_players_by_full_name(\"Kevin Durant\")\n",
    "career = pcs.PlayerCareerStats(player_id=kd[0]['id'])\n",
    "df = career.fet_data_frames() [0]\n",
    "#filtre colonnes\n",
    "cols_to_keep=['SEASON_ID','TEAM_ABBREVIATION','PLAYER_AGE','GP','GS','MIN','PTS','REB','AST','FG_PCT','FG3_PCT','FT_PCT','PER','TS_PCT']\n",
    "df = df[cols_to_keep]\n",
    "\n",
    "df_season = df[df['LEAGUE_ID'] == '00']\n",
    "df_playoffs = df[df['LEAGUE_ID'] == '01']\n",
    "\n",
    "df_season.to_csv('..data/raw/kd_season.csv, index=false)\n",
    "df_playoffs.to_csv('..data/raw/kd_season.csv, index=false)\n"
   ]
  }
 ],
 "metadata": {
  "language_info": {
   "name": "python"
  }
 },
 "nbformat": 4,
 "nbformat_minor": 5
}
