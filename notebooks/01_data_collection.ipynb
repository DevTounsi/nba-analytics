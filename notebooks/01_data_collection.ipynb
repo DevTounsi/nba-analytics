{
 "cells": [
  {
   "cell_type": "code",
   "execution_count": 17,
   "id": "199048c5",
   "metadata": {},
   "outputs": [],
   "source": [
    "from nba_api.stats.endpoints import playercareerstats as pcs\n",
    "from nba_api.stats.static import players\n",
    "import pandas as pd\n",
    "\n",
    "kd = players.find_players_by_full_name(\"Kevin Durant\")\n",
    "career = pcs.PlayerCareerStats(player_id=kd[0]['id'])\n",
    "df = career.get_data_frames()[0]\n",
    "#efficacité\n",
    "df['EFF'] = (df['PTS'] + df['REB'] + df['AST'] + df['STL'] + df['BLK']) - ((df['FGA'] - df['FGM']) + (df['FTA'] - df['FTM']) + df['TOV'])\n",
    "#true shooting percentage\n",
    "df['TS_PCT'] = df['PTS'] / (2 * (df['FGA'] + 0.44 * df['FTA']))\n",
    "\n",
    "cols_to_keep=['SEASON_ID','TEAM_ABBREVIATION','PLAYER_AGE','GP','GS','MIN','PTS','REB','AST','FG_PCT','FG3_PCT','FT_PCT','EFF','TS_PCT']\n",
    "df = df[cols_to_keep]\n",
    "\n",
    "df.to_csv('../data/raw/kd_all.csv', index=False)\n"
   ]
  }
 ],
 "metadata": {
  "kernelspec": {
   "display_name": "Python 3",
   "language": "python",
   "name": "python3"
  },
  "language_info": {
   "codemirror_mode": {
    "name": "ipython",
    "version": 3
   },
   "file_extension": ".py",
   "mimetype": "text/x-python",
   "name": "python",
   "nbconvert_exporter": "python",
   "pygments_lexer": "ipython3",
   "version": "3.13.7"
  }
 },
 "nbformat": 4,
 "nbformat_minor": 5
}
